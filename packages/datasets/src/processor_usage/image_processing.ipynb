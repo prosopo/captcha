{
 "cells": [
  {
   "attachments": {},
   "cell_type": "markdown",
   "metadata": {},
   "source": [
    "# ImageProcessor Demonstration\n",
    "\n",
    "This notebook demonstrates how to use the ImageProcessor class for preprocessing images for CAPTCHA."
   ]
  },
  {
   "cell_type": "code",
   "execution_count": null,
   "metadata": {},
   "outputs": [],
   "source": [
    "import sys\n",
    "sys.path.append(\"../python/\")\n",
    "from processor import ImageProcessor"
   ]
  },
  {
   "cell_type": "code",
   "execution_count": null,
   "metadata": {},
   "outputs": [],
   "source": [
    "import os\n",
    "import shutil\n",
    "\n",
    "dir1 = \"/home/user/datasets/source_images\"\n",
    "dir2 = \"/home/user/datasets/target_images\"\n",
    "\n",
    "# Get folder names in both directories\n",
    "folder_names_dir1 = {d for d in os.listdir(dir1) if os.path.isdir(os.path.join(dir1, d))}\n",
    "folder_names_dir2 = {d for d in os.listdir(dir2) if os.path.isdir(os.path.join(dir2, d))}\n",
    "\n",
    "# Find common folder names\n",
    "common_folders = folder_names_dir1.intersection(folder_names_dir2)\n",
    "\n",
    "# Remove common folders from dir1\n",
    "for folder in common_folders:\n",
    "    shutil.rmtree(os.path.join(dir1, folder))\n"
   ]
  },
  {
   "cell_type": "code",
   "execution_count": null,
   "metadata": {},
   "outputs": [],
   "source": [
    "# specify path to your font\n",
    "font_path = 'arial.ttf'\n",
    "\n",
    "# create ImageProcessor instance\n",
    "processor = ImageProcessor(font_path)\n",
    "\n",
    "# specify source and target folders\n",
    "source_folder = '/home/user/datasets/source_images'\n",
    "target_folder = '/home/user/datasets/target_images'\n",
    "\n",
    "# process all images in source folder and save them in target folder\n",
    "processor.process_folder(source_folder, target_folder)\n"
   ]
  }
 ],
 "metadata": {
  "kernelspec": {
   "display_name": "Python 3",
   "language": "python",
   "name": "python3"
  },
  "language_info": {
   "codemirror_mode": {
    "name": "ipython",
    "version": 3
   },
   "file_extension": ".py",
   "mimetype": "text/x-python",
   "name": "python",
   "nbconvert_exporter": "python",
   "pygments_lexer": "ipython3",
   "version": "3.10.6"
  },
  "orig_nbformat": 4
 },
 "nbformat": 4,
 "nbformat_minor": 2
}
