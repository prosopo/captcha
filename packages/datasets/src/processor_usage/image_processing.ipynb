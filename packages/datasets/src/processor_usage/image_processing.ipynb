{
 "cells": [
  {
   "attachments": {},
   "cell_type": "markdown",
   "metadata": {},
   "source": [
    "# ImageProcessor Demonstration\n",
    "\n",
    "This notebook demonstrates how to use the ImageProcessor class for preprocessing images for CAPTCHA."
   ]
  },
  {
   "cell_type": "code",
   "execution_count": 1,
   "metadata": {},
   "outputs": [],
   "source": [
    "import sys\n",
    "sys.path.append(\"../python/\")\n",
    "from processor import ImageProcessor"
   ]
  },
  {
   "cell_type": "code",
   "execution_count": 2,
   "metadata": {},
   "outputs": [
    {
     "name": "stdout",
     "output_type": "stream",
     "text": [
      "<PIL.PngImagePlugin.PngImageFile image mode=RGB size=512x512 at 0x7FD67EBFB4F0>\n",
      "<PIL.Image.Image image mode=RGB size=512x512 at 0x7FD67EC6C7F0>\n",
      "<PIL.Image.Image image mode=RGBA size=512x512 at 0x7FD67EC6C820>\n",
      "<PIL.Image.Image image mode=RGBA size=512x512 at 0x7FD67EC6CA00>\n",
      "<PIL.Image.Image image mode=RGB size=512x512 at 0x7FD67EC6C8B0>\n"
     ]
    }
   ],
   "source": [
    "# Initialize the ImageProcessor\n",
    "processor = ImageProcessor([\"src_images/image.png\"], \"arial.ttf\")\n",
    "# Process images\n",
    "processor.process_image(\"target\")\n",
    "\n"
   ]
  }
 ],
 "metadata": {
  "kernelspec": {
   "display_name": "Python 3",
   "language": "python",
   "name": "python3"
  },
  "language_info": {
   "codemirror_mode": {
    "name": "ipython",
    "version": 3
   },
   "file_extension": ".py",
   "mimetype": "text/x-python",
   "name": "python",
   "nbconvert_exporter": "python",
   "pygments_lexer": "ipython3",
   "version": "3.10.6"
  },
  "orig_nbformat": 4
 },
 "nbformat": 4,
 "nbformat_minor": 2
}
